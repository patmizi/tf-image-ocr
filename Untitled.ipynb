{
 "cells": [
  {
   "cell_type": "code",
   "execution_count": 18,
   "metadata": {},
   "outputs": [
    {
     "name": "stdout",
     "output_type": "stream",
     "text": [
      "WARNING:tensorflow:No training configuration found in save file: the model was *not* compiled. Compile it manually.\n",
      "Model: \"model_3\"\n",
      "__________________________________________________________________________________________________\n",
      "Layer (type)                    Output Shape         Param #     Connected to                     \n",
      "==================================================================================================\n",
      "the_input (InputLayer)          [(None, 512, 64, 1)] 0                                            \n",
      "__________________________________________________________________________________________________\n",
      "conv1 (Conv2D)                  (None, 512, 64, 16)  160         the_input[0][0]                  \n",
      "__________________________________________________________________________________________________\n",
      "bn1 (BatchNormalization)        (None, 512, 64, 16)  48          conv1[0][0]                      \n",
      "__________________________________________________________________________________________________\n",
      "activation_3 (Activation)       (None, 512, 64, 16)  0           bn1[0][0]                        \n",
      "__________________________________________________________________________________________________\n",
      "max1 (MaxPooling2D)             (None, 256, 32, 16)  0           activation_3[0][0]               \n",
      "__________________________________________________________________________________________________\n",
      "conv2 (Conv2D)                  (None, 256, 32, 16)  2320        max1[0][0]                       \n",
      "__________________________________________________________________________________________________\n",
      "bn2 (BatchNormalization)        (None, 256, 32, 16)  48          conv2[0][0]                      \n",
      "__________________________________________________________________________________________________\n",
      "activation_4 (Activation)       (None, 256, 32, 16)  0           bn2[0][0]                        \n",
      "__________________________________________________________________________________________________\n",
      "max2 (MaxPooling2D)             (None, 128, 16, 16)  0           activation_4[0][0]               \n",
      "__________________________________________________________________________________________________\n",
      "reshape (Reshape)               (None, 128, 256)     0           max2[0][0]                       \n",
      "__________________________________________________________________________________________________\n",
      "dense1 (Dense)                  (None, 128, 32)      8224        reshape[0][0]                    \n",
      "__________________________________________________________________________________________________\n",
      "gru1 (GRU)                      (None, 128, 512)     837120      dense1[0][0]                     \n",
      "__________________________________________________________________________________________________\n",
      "gru1_b (GRU)                    (None, 128, 512)     837120      dense1[0][0]                     \n",
      "__________________________________________________________________________________________________\n",
      "concatenate_2 (Concatenate)     (None, 128, 1024)    0           gru1[0][0]                       \n",
      "                                                                 gru1_b[0][0]                     \n",
      "__________________________________________________________________________________________________\n",
      "dense2 (Dense)                  (None, 128, 38)      38950       concatenate_2[0][0]              \n",
      "__________________________________________________________________________________________________\n",
      "softmax (Activation)            (None, 128, 38)      0           dense2[0][0]                     \n",
      "==================================================================================================\n",
      "Total params: 1,723,990\n",
      "Trainable params: 1,723,926\n",
      "Non-trainable params: 64\n",
      "__________________________________________________________________________________________________\n"
     ]
    }
   ],
   "source": [
    "import os\n",
    "import itertools\n",
    "import numpy as np\n",
    "from tensorflow.python import keras\n",
    "from tensorflow.python.keras.preprocessing import image\n",
    "from lib.constants import ALPHABET\n",
    "\n",
    "# Reverse translation of numerical classes back to characters\n",
    "def labels_to_text(labels):\n",
    "    ret = []\n",
    "    for c in labels:\n",
    "        if c == len(ALPHABET): \n",
    "            ret.append(\"\")\n",
    "        else:\n",
    "            ret.append(ALPHABET[c])\n",
    "    return \"\".join(ret)\n",
    "\n",
    "# predict sigle image in file\n",
    "def predict_image(model, image_path, img_w, img_h):\n",
    "    img = image.load_img(image_path, color_mode=\"grayscale\", target_size=(img_h, img_w))\n",
    "    inputs = image.img_to_array(img)\n",
    "    inputs = inputs.transpose(1, 0, 2)\n",
    "    inputs = inputs.astype(np.float32) / 255\n",
    "    inputs = np.expand_dims(inputs, 0)\n",
    "    out = model.predict(inputs)\n",
    "    out_best = list(np.argmax(out[0, 2:], 1))\n",
    "    # print(list(np.max(out[0, 2:], 1)))\n",
    "    # print(out_best)\n",
    "    out_best = [k for k, g in itertools.groupby(out_best)]\n",
    "    # print(out_best)\n",
    "    outstr = labels_to_text(out_best)\n",
    "    print(outstr)\n",
    "\n",
    "test_path = \"./test\"\n",
    "img_w = 512\n",
    "img_h = 64\n",
    "model = keras.models.load_model(\"./model/image_ocr_word.h5\")\n",
    "model.summary()"
   ]
  },
  {
   "cell_type": "code",
   "execution_count": 21,
   "metadata": {},
   "outputs": [
    {
     "name": "stdout",
     "output_type": "stream",
     "text": [
      "ffmj\n"
     ]
    }
   ],
   "source": [
    "predict_image(model, os.path.join(test_path, \"hard.png\"), img_w, img_h)"
   ]
  },
  {
   "cell_type": "code",
   "execution_count": 22,
   "metadata": {},
   "outputs": [
    {
     "name": "stdout",
     "output_type": "stream",
     "text": [
      "fsmffmfmmmmmmmmmmmmmmmmmmm\n"
     ]
    }
   ],
   "source": [
    "predict_image(model, os.path.join(test_path, \"easy_easy.jpg\"), img_w, img_h)"
   ]
  },
  {
   "cell_type": "code",
   "execution_count": null,
   "metadata": {},
   "outputs": [],
   "source": []
  }
 ],
 "metadata": {
  "kernelspec": {
   "display_name": "Python 3",
   "language": "python",
   "name": "python3"
  },
  "language_info": {
   "codemirror_mode": {
    "name": "ipython",
    "version": 3
   },
   "file_extension": ".py",
   "mimetype": "text/x-python",
   "name": "python",
   "nbconvert_exporter": "python",
   "pygments_lexer": "ipython3",
   "version": "3.7.6"
  }
 },
 "nbformat": 4,
 "nbformat_minor": 4
}
